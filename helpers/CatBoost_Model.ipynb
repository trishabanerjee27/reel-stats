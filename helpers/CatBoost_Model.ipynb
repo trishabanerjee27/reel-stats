{
 "cells": [
  {
   "cell_type": "code",
   "execution_count": 2,
   "id": "4bb0ed4e",
   "metadata": {},
   "outputs": [],
   "source": [
    "import pandas as pd\n",
    "import catboost as cb\n",
    "from sklearn.model_selection import train_test_split\n",
    "from sklearn.metrics import mean_squared_error"
   ]
  },
  {
   "cell_type": "code",
   "execution_count": 4,
   "id": "05165a74",
   "metadata": {},
   "outputs": [],
   "source": [
    "df = pd.read_csv('/Users/Trisha/Desktop/Software Des/box-office-prediction/cleaned_data/data_clean_v2.csv')\n",
    "for col in ['actor', 'actress', 'director', 'writer', 'genres']:\n",
    "    df[col] = df[col].fillna('missing')"
   ]
  },
  {
   "cell_type": "code",
   "execution_count": 5,
   "id": "61d6f730",
   "metadata": {},
   "outputs": [],
   "source": [
    "features = ['actor', 'actress', 'director', 'writer', 'runtimeMinutes', 'genres', 'isAdult']\n",
    "target = 'averageRating'"
   ]
  },
  {
   "cell_type": "code",
   "execution_count": 6,
   "id": "d9597b15",
   "metadata": {},
   "outputs": [],
   "source": [
    "X_train, X_test, y_train, y_test = train_test_split(df[features], df[target], test_size=0.3, random_state=42)\n",
    "\n",
    "categorical_features_indices = [X_train.columns.get_loc(col) for col in ['actor', 'actress', 'director', 'writer', 'genres']]"
   ]
  },
  {
   "cell_type": "code",
   "execution_count": 11,
   "id": "4810d0f1",
   "metadata": {},
   "outputs": [
    {
     "name": "stdout",
     "output_type": "stream",
     "text": [
      "0:\tlearn: 0.8325703\ttest: 0.8284880\tbest: 0.8284880 (0)\ttotal: 90.2ms\tremaining: 6m\n",
      "100:\tlearn: 0.5110903\ttest: 0.4935249\tbest: 0.4935249 (100)\ttotal: 5.4s\tremaining: 3m 28s\n",
      "200:\tlearn: 0.4660215\ttest: 0.4510824\tbest: 0.4510824 (200)\ttotal: 11.1s\tremaining: 3m 29s\n",
      "300:\tlearn: 0.4371056\ttest: 0.4258535\tbest: 0.4258535 (300)\ttotal: 17.8s\tremaining: 3m 38s\n",
      "400:\tlearn: 0.4154361\ttest: 0.4082759\tbest: 0.4082759 (400)\ttotal: 24.1s\tremaining: 3m 36s\n",
      "500:\tlearn: 0.3983396\ttest: 0.3957122\tbest: 0.3957122 (500)\ttotal: 30.2s\tremaining: 3m 30s\n",
      "600:\tlearn: 0.3826137\ttest: 0.3843987\tbest: 0.3843987 (600)\ttotal: 36.1s\tremaining: 3m 24s\n",
      "700:\tlearn: 0.3691253\ttest: 0.3756793\tbest: 0.3756793 (700)\ttotal: 41.9s\tremaining: 3m 17s\n",
      "800:\tlearn: 0.3566976\ttest: 0.3670143\tbest: 0.3670143 (800)\ttotal: 47.8s\tremaining: 3m 10s\n",
      "900:\tlearn: 0.3461277\ttest: 0.3615328\tbest: 0.3615328 (900)\ttotal: 53.3s\tremaining: 3m 3s\n",
      "1000:\tlearn: 0.3372212\ttest: 0.3569681\tbest: 0.3569681 (1000)\ttotal: 58.8s\tremaining: 2m 56s\n",
      "1100:\tlearn: 0.3290644\ttest: 0.3524505\tbest: 0.3524505 (1100)\ttotal: 1m 4s\tremaining: 2m 49s\n",
      "1200:\tlearn: 0.3214627\ttest: 0.3489107\tbest: 0.3489091 (1199)\ttotal: 1m 9s\tremaining: 2m 43s\n",
      "1300:\tlearn: 0.3134728\ttest: 0.3452142\tbest: 0.3452142 (1300)\ttotal: 1m 15s\tremaining: 2m 36s\n",
      "1400:\tlearn: 0.3071034\ttest: 0.3421878\tbest: 0.3421878 (1400)\ttotal: 1m 21s\tremaining: 2m 30s\n",
      "1500:\tlearn: 0.3008256\ttest: 0.3388828\tbest: 0.3388828 (1500)\ttotal: 1m 26s\tremaining: 2m 24s\n",
      "1600:\tlearn: 0.2941950\ttest: 0.3359184\tbest: 0.3359154 (1599)\ttotal: 1m 32s\tremaining: 2m 18s\n",
      "1700:\tlearn: 0.2884013\ttest: 0.3335938\tbest: 0.3335938 (1700)\ttotal: 1m 38s\tremaining: 2m 12s\n",
      "1800:\tlearn: 0.2831680\ttest: 0.3315242\tbest: 0.3315242 (1800)\ttotal: 1m 43s\tremaining: 2m 6s\n",
      "1900:\tlearn: 0.2784824\ttest: 0.3297664\tbest: 0.3297664 (1900)\ttotal: 1m 49s\tremaining: 2m\n",
      "2000:\tlearn: 0.2731990\ttest: 0.3274428\tbest: 0.3274428 (2000)\ttotal: 1m 54s\tremaining: 1m 54s\n",
      "2100:\tlearn: 0.2682816\ttest: 0.3255855\tbest: 0.3255855 (2100)\ttotal: 2m\tremaining: 1m 48s\n",
      "2200:\tlearn: 0.2633910\ttest: 0.3239920\tbest: 0.3239920 (2200)\ttotal: 2m 5s\tremaining: 1m 42s\n",
      "2300:\tlearn: 0.2590335\ttest: 0.3224518\tbest: 0.3224518 (2300)\ttotal: 2m 11s\tremaining: 1m 36s\n",
      "2400:\tlearn: 0.2550279\ttest: 0.3212184\tbest: 0.3212184 (2400)\ttotal: 2m 16s\tremaining: 1m 31s\n",
      "2500:\tlearn: 0.2512780\ttest: 0.3196878\tbest: 0.3196878 (2500)\ttotal: 2m 22s\tremaining: 1m 25s\n",
      "2600:\tlearn: 0.2475468\ttest: 0.3184686\tbest: 0.3184646 (2599)\ttotal: 2m 28s\tremaining: 1m 19s\n",
      "2700:\tlearn: 0.2439120\ttest: 0.3174365\tbest: 0.3174365 (2700)\ttotal: 2m 33s\tremaining: 1m 13s\n",
      "2800:\tlearn: 0.2404961\ttest: 0.3162608\tbest: 0.3162608 (2800)\ttotal: 2m 39s\tremaining: 1m 8s\n",
      "2900:\tlearn: 0.2373362\ttest: 0.3152111\tbest: 0.3152111 (2900)\ttotal: 2m 44s\tremaining: 1m 2s\n",
      "3000:\tlearn: 0.2334604\ttest: 0.3137668\tbest: 0.3137668 (3000)\ttotal: 2m 50s\tremaining: 56.8s\n",
      "3100:\tlearn: 0.2305140\ttest: 0.3129446\tbest: 0.3129446 (3100)\ttotal: 2m 56s\tremaining: 51.2s\n",
      "3200:\tlearn: 0.2275689\ttest: 0.3119213\tbest: 0.3119203 (3199)\ttotal: 3m 2s\tremaining: 45.5s\n",
      "3300:\tlearn: 0.2249399\ttest: 0.3111713\tbest: 0.3111504 (3297)\ttotal: 3m 7s\tremaining: 39.8s\n",
      "3400:\tlearn: 0.2221006\ttest: 0.3104266\tbest: 0.3104266 (3400)\ttotal: 3m 13s\tremaining: 34.1s\n",
      "3500:\tlearn: 0.2195735\ttest: 0.3097067\tbest: 0.3097067 (3500)\ttotal: 3m 19s\tremaining: 28.4s\n",
      "3600:\tlearn: 0.2167486\ttest: 0.3090164\tbest: 0.3090108 (3595)\ttotal: 3m 25s\tremaining: 22.7s\n",
      "3700:\tlearn: 0.2141278\ttest: 0.3082133\tbest: 0.3082133 (3700)\ttotal: 3m 30s\tremaining: 17s\n",
      "3800:\tlearn: 0.2115265\ttest: 0.3074154\tbest: 0.3074154 (3800)\ttotal: 3m 36s\tremaining: 11.3s\n",
      "3900:\tlearn: 0.2091900\ttest: 0.3067537\tbest: 0.3067537 (3900)\ttotal: 3m 42s\tremaining: 5.65s\n",
      "3999:\tlearn: 0.2070230\ttest: 0.3062887\tbest: 0.3062836 (3990)\ttotal: 3m 48s\tremaining: 0us\n",
      "\n",
      "bestTest = 0.3062836476\n",
      "bestIteration = 3990\n",
      "\n",
      "Shrink model to first 3991 iterations.\n"
     ]
    },
    {
     "data": {
      "text/plain": [
       "<catboost.core.CatBoostRegressor at 0x169a3f2d0>"
      ]
     },
     "execution_count": 11,
     "metadata": {},
     "output_type": "execute_result"
    }
   ],
   "source": [
    "model = cb.CatBoostRegressor(\n",
    "    iterations=4000,\n",
    "    learning_rate=0.4,\n",
    "    depth=9,\n",
    "    eval_metric='RMSE',\n",
    "    cat_features=categorical_features_indices,\n",
    "    use_best_model=True\n",
    ")\n",
    "\n",
    "model.fit(X_train, y_train, eval_set=(X_test, y_test), early_stopping_rounds=50, verbose=100)\n"
   ]
  },
  {
   "cell_type": "code",
   "execution_count": 12,
   "id": "15c0704d",
   "metadata": {},
   "outputs": [
    {
     "name": "stdout",
     "output_type": "stream",
     "text": [
      "Root Mean Squared Error: 0.3062836421761508\n"
     ]
    }
   ],
   "source": [
    "\n",
    "y_pred = model.predict(X_test)\n",
    "\n",
    "rmse = mean_squared_error(y_test, y_pred, squared=False)\n",
    "print(f'Root Mean Squared Error: {rmse}')"
   ]
  },
  {
   "cell_type": "code",
   "execution_count": 13,
   "id": "694b7d7d",
   "metadata": {},
   "outputs": [
    {
     "name": "stdout",
     "output_type": "stream",
     "text": [
      "R-squared: 0.9046456034645315\n"
     ]
    }
   ],
   "source": [
    "from sklearn.metrics import r2_score\n",
    "\n",
    "y_pred = model.predict(X_test)\n",
    "r2 = r2_score(y_test, y_pred)\n",
    "print(f'R-squared: {r2}')\n"
   ]
  },
  {
   "cell_type": "code",
   "execution_count": 15,
   "id": "b5ef7d4a",
   "metadata": {},
   "outputs": [
    {
     "name": "stdout",
     "output_type": "stream",
     "text": [
      "Predicted Rating: 6.538266393766316\n"
     ]
    }
   ],
   "source": [
    "hypothetical_movie = {\n",
    "    'actor': 'Robert Downey Jr.',\n",
    "    'actress': '',\n",
    "    'director': '',\n",
    "    'writer': '',\n",
    "    'runtimeMinutes': 150,\n",
    "    'genres': 'Sci-Fi',\n",
    "    'isAdult': 0\n",
    "}\n",
    "\n",
    "new_data = pd.DataFrame([hypothetical_movie])\n",
    "\n",
    "predicted_rating = model.predict(new_data)\n",
    "print(f'Predicted Rating: {predicted_rating[0]}')\n"
   ]
  },
  {
   "cell_type": "code",
   "execution_count": null,
   "id": "df82a044",
   "metadata": {},
   "outputs": [],
   "source": [
    "model.save_model(\"CatBoosy\")"
   ]
  }
 ],
 "metadata": {
  "kernelspec": {
   "display_name": "Python 3 (ipykernel)",
   "language": "python",
   "name": "python3"
  },
  "language_info": {
   "codemirror_mode": {
    "name": "ipython",
    "version": 3
   },
   "file_extension": ".py",
   "mimetype": "text/x-python",
   "name": "python",
   "nbconvert_exporter": "python",
   "pygments_lexer": "ipython3",
   "version": "3.11.5"
  }
 },
 "nbformat": 4,
 "nbformat_minor": 5
}
